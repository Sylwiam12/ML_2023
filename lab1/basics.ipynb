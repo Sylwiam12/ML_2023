{
 "cells": [
  {
   "attachments": {},
   "cell_type": "markdown",
   "metadata": {},
   "source": [
    "Laboratorium 1: Podstawy Python"
   ]
  },
  {
   "cell_type": "code",
   "execution_count": null,
   "metadata": {},
   "outputs": [],
   "source": [
    "import numpy as np\n",
    "import matplotlib.pyplot as plt\n",
    "import pandas as pd\n",
    "import matplotlib.colors as mcolors"
   ]
  },
  {
   "cell_type": "code",
   "execution_count": null,
   "metadata": {},
   "outputs": [],
   "source": [
    "from sklearn.datasets import load_iris\n",
    "\n",
    "irisRaw = load_iris()\n",
    "# read iris.data into a pandas DataFrame (df), including column names\n",
    "iris = pd.DataFrame(data= np.c_[irisRaw['data'], irisRaw['target']],\n",
    "                     columns= irisRaw['feature_names'] + ['target'])"
   ]
  },
  {
   "attachments": {},
   "cell_type": "markdown",
   "metadata": {},
   "source": [
    "1. Wyświetl zawartość pliku"
   ]
  },
  {
   "cell_type": "code",
   "execution_count": null,
   "metadata": {},
   "outputs": [],
   "source": [
    "print(iris)"
   ]
  },
  {
   "attachments": {},
   "cell_type": "markdown",
   "metadata": {},
   "source": [
    "2.Wyświetl liczbę wierszy oraz kolumn"
   ]
  },
  {
   "cell_type": "code",
   "execution_count": null,
   "metadata": {},
   "outputs": [],
   "source": [
    "iris.shape\n",
    "#shape zwraca krotkę w postaci : (ilość wierszy, ilość kolumn)"
   ]
  },
  {
   "attachments": {},
   "cell_type": "markdown",
   "metadata": {},
   "source": [
    "3.Wyświetl podstawowe informacje dla poszczególnych kolumn. Skorzystaj z metod describe.\n"
   ]
  },
  {
   "cell_type": "code",
   "execution_count": null,
   "metadata": {},
   "outputs": [],
   "source": [
    "iris.describe"
   ]
  },
  {
   "attachments": {},
   "cell_type": "markdown",
   "metadata": {},
   "source": [
    "4. Zapoznaj się z działaniem metody groupby.\n"
   ]
  },
  {
   "cell_type": "code",
   "execution_count": null,
   "metadata": {},
   "outputs": [],
   "source": [
    "iris.groupby(['sepal length (cm)']).mean().head(10)"
   ]
  },
  {
   "attachments": {},
   "cell_type": "markdown",
   "metadata": {},
   "source": [
    "5. Wykorzystując metodę head proszę wyświetl  5 pierwszych wierszy"
   ]
  },
  {
   "cell_type": "code",
   "execution_count": null,
   "metadata": {},
   "outputs": [],
   "source": [
    "iris.head(5)"
   ]
  },
  {
   "attachments": {},
   "cell_type": "markdown",
   "metadata": {},
   "source": [
    "6. Korzystając z dropna sprawdź, czy baza zawiera brakujące dane"
   ]
  },
  {
   "cell_type": "code",
   "execution_count": null,
   "metadata": {},
   "outputs": [],
   "source": [
    "iris.dropna(axis='columns')"
   ]
  },
  {
   "attachments": {},
   "cell_type": "markdown",
   "metadata": {},
   "source": [
    "7. Korzystając z metody sort_values posortuj dane rosnąco względem drugiej kolumny.\n"
   ]
  },
  {
   "cell_type": "code",
   "execution_count": null,
   "metadata": {},
   "outputs": [],
   "source": [
    "iris.sort_values(['sepal width (cm)'],ascending=True)"
   ]
  },
  {
   "attachments": {},
   "cell_type": "markdown",
   "metadata": {},
   "source": [
    "8. Wyznacz minimalną i maksymalną długość płatka (kolumna 3 - petal length). Podaj indeks tych wartości (min, idxmin).\n"
   ]
  },
  {
   "cell_type": "code",
   "execution_count": null,
   "metadata": {},
   "outputs": [],
   "source": [
    "#min\n",
    "print(iris['petal width (cm)'].min(),iris['sepal width (cm)'].idxmin())\n",
    "#max\n",
    "print(iris['petal width (cm)'].max(),iris['sepal width (cm)'].idxmax())"
   ]
  },
  {
   "attachments": {},
   "cell_type": "markdown",
   "metadata": {},
   "source": [
    "9. Oblicz odchylenie standardowe dla każdej kolumny (std)\n"
   ]
  },
  {
   "cell_type": "code",
   "execution_count": null,
   "metadata": {},
   "outputs": [],
   "source": [
    "iris.std()"
   ]
  },
  {
   "attachments": {},
   "cell_type": "markdown",
   "metadata": {},
   "source": [
    "10. Wyodrębnij wiersze dla których długość kielicha kwiatów (sepal length) jest większa od średniej długości (cały zbiór)\n"
   ]
  },
  {
   "cell_type": "code",
   "execution_count": null,
   "metadata": {},
   "outputs": [],
   "source": [
    "iris[iris['sepal length (cm)']>iris['sepal length (cm)'].mean()]\n"
   ]
  },
  {
   "attachments": {},
   "cell_type": "markdown",
   "metadata": {},
   "source": [
    "11. Wyświetl histogramy dla poszczególnych parametrów z uwzglednieniem przynależności do danej klasy"
   ]
  },
  {
   "cell_type": "code",
   "execution_count": null,
   "metadata": {},
   "outputs": [],
   "source": [
    "fig, ax = plt.subplots(2,2)\n",
    "fig.set_size_inches(14,14)\n",
    "colors=['dodgerblue','lightgreen','pink']\n",
    "names=['sepal length (cm)',  'sepal width (cm)',  'petal length (cm)',  'petal width (cm)']\n",
    "types=['setosa' ,'versicolor' ,'virginica']\n",
    "ax[0,0].hist([iris.groupby([\"target\"]).get_group(nr)[names[0]] for nr in [0,1,2]],color=colors)\n",
    "ax[0,0].set_title(names[0])\n",
    "ax[0,0].set_xlabel('measure')\n",
    "ax[0,0].set_ylabel('number')\n",
    "ax[0,0].legend(types)\n",
    "\n",
    "ax[0,1].hist([iris.groupby([\"target\"]).get_group(nr)[names[1]] for nr in [0,1,2]],color=colors)\n",
    "ax[0,1].set_title(names[1])\n",
    "ax[0,1].set_xlabel('measure')\n",
    "ax[0,1].set_ylabel('number')\n",
    "ax[0,1].legend(types)\n",
    "\n",
    "ax[1,0].hist([iris.groupby([\"target\"]).get_group(nr)[names[2]] for nr in [0,1,2]],color=colors)\n",
    "ax[1,0].set_title(names[2])\n",
    "ax[1,0].set_xlabel('measure')\n",
    "ax[1,0].set_ylabel('number')\n",
    "ax[1,0].legend(types)\n",
    "\n",
    "ax[1,1].hist([iris.groupby([\"target\"]).get_group(nr)[names[3]] for nr in [0,1,2]],color=colors)\n",
    "ax[1,1].set_title(names[3])\n",
    "ax[1,1].set_xlabel('measure')\n",
    "ax[1,1].set_ylabel('number')\n",
    "ax[1,1].legend(types)\n"
   ]
  }
 ],
 "metadata": {
  "kernelspec": {
   "display_name": "Python 3",
   "language": "python",
   "name": "python3"
  },
  "language_info": {
   "codemirror_mode": {
    "name": "ipython",
    "version": 3
   },
   "file_extension": ".py",
   "mimetype": "text/x-python",
   "name": "python",
   "nbconvert_exporter": "python",
   "pygments_lexer": "ipython3",
   "version": "3.10.8"
  },
  "orig_nbformat": 4,
  "vscode": {
   "interpreter": {
    "hash": "b239acf2821489c398a9848859e84ce39b99d30cc4031fb37cc7461da3883639"
   }
  }
 },
 "nbformat": 4,
 "nbformat_minor": 2
}
