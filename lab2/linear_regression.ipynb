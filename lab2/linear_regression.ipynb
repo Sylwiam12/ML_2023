{
 "cells": [
  {
   "attachments": {},
   "cell_type": "markdown",
   "metadata": {},
   "source": [
    "Laboratory 2: Linear regression"
   ]
  },
  {
   "cell_type": "code",
   "execution_count": null,
   "metadata": {},
   "outputs": [],
   "source": [
    "import numpy as np\n",
    "import pandas as pd\n",
    "import matplotlib.pyplot as plt\n",
    "from mpl_toolkits.mplot3d import Axes3D\n",
    "import matplotlib.colors as mcolors\n",
    "import os"
   ]
  },
  {
   "attachments": {},
   "cell_type": "markdown",
   "metadata": {},
   "source": [
    "Linear regression with one variable"
   ]
  },
  {
   "cell_type": "code",
   "execution_count": null,
   "metadata": {},
   "outputs": [],
   "source": [
    "path = os.getcwd() + '/ex1data1.txt'\n",
    "data = pd.read_csv(path, header=None, names=['Population', 'Profit'])"
   ]
  },
  {
   "attachments": {},
   "cell_type": "markdown",
   "metadata": {},
   "source": [
    "Ex 1. Use the head and describe function to examine the data and display few columns.\n"
   ]
  },
  {
   "cell_type": "code",
   "execution_count": null,
   "metadata": {},
   "outputs": [],
   "source": [
    "data.head(10)"
   ]
  },
  {
   "cell_type": "code",
   "execution_count": null,
   "metadata": {},
   "outputs": [],
   "source": [
    "data.describe"
   ]
  },
  {
   "attachments": {},
   "cell_type": "markdown",
   "metadata": {},
   "source": [
    "Ex. 2. Extract data from pandas structure to new variables of ndarray type\n",
    "\n"
   ]
  },
  {
   "cell_type": "code",
   "execution_count": null,
   "metadata": {},
   "outputs": [],
   "source": [
    "x=data.values[:,0]\n",
    "y=data.values[:,1]"
   ]
  },
  {
   "cell_type": "code",
   "execution_count": null,
   "metadata": {},
   "outputs": [],
   "source": [
    "plt.scatter(x,y,cmap='skyblue')\n",
    "plt.xlabel('Population of City in 10,000s')\n",
    "plt.ylabel('Profit in $10,000s')\n",
    "plt.title('Data plot')\n",
    "plt.show()"
   ]
  },
  {
   "attachments": {},
   "cell_type": "markdown",
   "metadata": {},
   "source": [
    "Ex.3.In order to make the cost function work we need to insert a column of ones at the top of x."
   ]
  },
  {
   "cell_type": "code",
   "execution_count": null,
   "metadata": {},
   "outputs": [],
   "source": [
    "X = np.stack([np.ones(x.shape, dtype=np.float32), x], axis=0)\n"
   ]
  },
  {
   "attachments": {},
   "cell_type": "markdown",
   "metadata": {},
   "source": [
    "Ex. 4. We need to separate our data into independent variables X and our dependent variable y. We also need to initialise parameter \n",
    "θ\n",
    "."
   ]
  },
  {
   "cell_type": "code",
   "execution_count": null,
   "metadata": {},
   "outputs": [],
   "source": [
    "y.shape = [1, y.shape[0]]\n",
    "theta = np.zeros((X.shape[0], 1), dtype=np.float32)\n"
   ]
  },
  {
   "cell_type": "code",
   "execution_count": null,
   "metadata": {},
   "outputs": [],
   "source": [
    "def h(X,theta):\n",
    "    return theta.T@X\n",
    "\n",
    "def computeCost(X, y, theta):\n",
    "    return np.sum((h(X,theta)-y)**2)/(2*(X.shape[1]))\n"
   ]
  },
  {
   "cell_type": "code",
   "execution_count": null,
   "metadata": {},
   "outputs": [],
   "source": [
    "print(computeCost(X,y,theta))\n"
   ]
  },
  {
   "attachments": {},
   "cell_type": "markdown",
   "metadata": {},
   "source": [
    "Ex. 7 Please implement the gradient descent algorithm:\n",
    "the function returns optimized values \n",
    "θ and a vector of the cost function value for each iteration"
   ]
  },
  {
   "cell_type": "code",
   "execution_count": null,
   "metadata": {},
   "outputs": [],
   "source": [
    "def simple_gradient(X, y, theta, alpha, it):\n",
    "    # it - number of iterations\n",
    "    cost=[]\n",
    "    for i in range(it):\n",
    "        theta=theta-(alpha*((h(X,theta)-y)@X.T).T/X.shape[1])\n",
    "        cost.append(computeCost(X,y,theta))\n",
    " \n",
    "    return theta, cost"
   ]
  },
  {
   "cell_type": "code",
   "execution_count": null,
   "metadata": {},
   "outputs": [],
   "source": [
    "alpha = 0.01\n",
    "it = 1000"
   ]
  },
  {
   "attachments": {},
   "cell_type": "markdown",
   "metadata": {},
   "source": [
    "Ex. 8 Please calculate the optimal parameters for the dataset.\n"
   ]
  },
  {
   "cell_type": "code",
   "execution_count": null,
   "metadata": {},
   "outputs": [],
   "source": [
    "theta1,cost1=simple_gradient(X,y,theta,alpha,it)"
   ]
  },
  {
   "attachments": {},
   "cell_type": "markdown",
   "metadata": {},
   "source": [
    "Ex. 9 Please calculate the cost function for the given \n",
    "θ\n",
    " (Ex.8)."
   ]
  },
  {
   "cell_type": "code",
   "execution_count": null,
   "metadata": {},
   "outputs": [],
   "source": [
    "print(computeCost(X,y,theta1))\n",
    "print(theta1)"
   ]
  },
  {
   "attachments": {},
   "cell_type": "markdown",
   "metadata": {},
   "source": [
    "Ex. 10 Plot the regression function and our dataset.\n"
   ]
  },
  {
   "cell_type": "code",
   "execution_count": null,
   "metadata": {},
   "outputs": [],
   "source": [
    "plt.scatter(x,y)\n",
    "plt.plot([4.5,22.5],[4.5*theta1[1]+theta1[0],22.5*theta1[1]+theta1[0]],'m')\n",
    "plt.xlabel('Population of City in 10,000s')\n",
    "plt.ylabel('Profit in $10,000s')\n",
    "plt.title('Data plot')\n",
    "plt.show()"
   ]
  },
  {
   "cell_type": "code",
   "execution_count": null,
   "metadata": {},
   "outputs": [],
   "source": [
    "plt.plot(np.linspace(0,it,it),cost1)\n",
    "plt.xlabel('Iteration number')\n",
    "plt.ylabel('Cost function value')\n",
    "plt.legend('cost')\n",
    "plt.show()"
   ]
  },
  {
   "attachments": {},
   "cell_type": "markdown",
   "metadata": {},
   "source": [
    "Linear regression with multiple variables"
   ]
  },
  {
   "cell_type": "code",
   "execution_count": null,
   "metadata": {},
   "outputs": [],
   "source": [
    "path = os.getcwd() + '/ex1data2.txt'\n",
    "data2 = pd.read_csv(path, header=None, names=['Size', 'Bedrooms', 'Price'])\n",
    "data2.head()"
   ]
  },
  {
   "cell_type": "code",
   "execution_count": null,
   "metadata": {},
   "outputs": [],
   "source": [
    "data2.columns"
   ]
  },
  {
   "cell_type": "code",
   "execution_count": null,
   "metadata": {},
   "outputs": [],
   "source": [
    "data2_copy=data2.copy()\n",
    "for col in data2.columns:\n",
    "    data2_copy[col]=(data2_copy[col]-data2_copy[col].mean())/data2_copy[col].std()"
   ]
  },
  {
   "cell_type": "code",
   "execution_count": null,
   "metadata": {},
   "outputs": [],
   "source": [
    "x=data2_copy.values[:,:2]\n",
    "y=data2_copy.values[:,2]\n",
    "x_h=np.ones(x.shape[0], dtype=np.float32)\n",
    "#print(x.shape,x_h.shape)\n",
    "x_h.shape=[x_h.shape[0],1]\n",
    "X=np.concatenate((x_h, x),axis=1).T\n",
    "y.shape = [1, y.shape[0]]\n",
    "theta = np.zeros((X.shape[0], 1), dtype=np.float32)\n",
    "print(computeCost(X,y,theta))"
   ]
  },
  {
   "cell_type": "code",
   "execution_count": null,
   "metadata": {},
   "outputs": [],
   "source": [
    "alpha = 0.01\n",
    "it = 1000\n",
    "theta2,cost2=simple_gradient(X,y,theta,alpha,it)"
   ]
  },
  {
   "cell_type": "code",
   "execution_count": null,
   "metadata": {},
   "outputs": [],
   "source": [
    "print(computeCost(X,y,theta2))"
   ]
  },
  {
   "cell_type": "code",
   "execution_count": null,
   "metadata": {},
   "outputs": [],
   "source": [
    "fig = plt.figure()\n",
    "ax = plt.axes(projection='3d')\n",
    "ax.scatter(x[:,0],x[:,1],y[0,:],c='indigo')\n",
    "xx,yy=np.meshgrid((range(-3,5)),range(-3,5))\n",
    "z=xx*theta2[1]+theta2[2]*yy+theta[0]\n",
    "ax.plot_surface(xx,yy,z,color='powderblue')\n",
    "ax.set_title('data plot')\n",
    "ax.set_xlabel('size')\n",
    "ax.set_ylabel('bedrooms')\n",
    "ax.set_zlabel('price')"
   ]
  },
  {
   "cell_type": "code",
   "execution_count": null,
   "metadata": {},
   "outputs": [],
   "source": [
    "plt.plot(np.linspace(0,it,it),cost2)\n",
    "plt.xlabel('Iteration number')\n",
    "plt.ylabel('Cost function value')\n",
    "plt.legend()\n",
    "plt.show()"
   ]
  },
  {
   "attachments": {},
   "cell_type": "markdown",
   "metadata": {},
   "source": [
    "Linear regression - Python packages"
   ]
  },
  {
   "attachments": {},
   "cell_type": "markdown",
   "metadata": {},
   "source": [
    "Linear Regression"
   ]
  },
  {
   "cell_type": "code",
   "execution_count": null,
   "metadata": {},
   "outputs": [],
   "source": [
    "import numpy as np\n",
    "from sklearn import datasets, linear_model\n",
    "from sklearn.model_selection import train_test_split\n",
    "\n",
    "# Data import\n",
    "path = os.getcwd() + '/ex1data2.txt'\n",
    "data2 = pd.read_csv(path, header=None, names=['Size', 'Bedrooms', 'Price'])\n",
    " \n",
    "# Normalization\n",
    "data2_copy=data2.copy()\n",
    "for col in data2.columns:\n",
    "    data2_copy[col]=(data2_copy[col]-data2_copy[col].mean())/data2_copy[col].std()\n",
    " \n",
    "# Split into train and test sets (70-30%)\n",
    "X_cols=['Size','Bedrooms']\n",
    "Y_col='Price'\n",
    "X_train, X_test, Y_train, Y_test = train_test_split(data2_copy[X_cols], data2_copy[Y_col],test_size=0.3, random_state=14)\n",
    " \n",
    "# Creating an object \n",
    "regr = linear_model.LinearRegression()\n",
    " \n",
    "# Learning model on training data\n",
    "regr.fit(X_train, Y_train)\n",
    "# Predicting values using test data\n",
    "Y_predicted = regr.predict(X_test)\n",
    " \n",
    "# Regression coefficients (theta)\n",
    "print('Coefficients: \\n', regr.coef_)\n",
    " \n",
    "#  Residual sum of squares error\n",
    "error = np.mean((regr.predict(X_test) - Y_test) ** 2)\n",
    "print(\"Residual sum of squares: {}\".format(error))"
   ]
  },
  {
   "attachments": {},
   "cell_type": "markdown",
   "metadata": {},
   "source": [
    "Ridge"
   ]
  },
  {
   "cell_type": "code",
   "execution_count": null,
   "metadata": {},
   "outputs": [],
   "source": [
    "import numpy as np\n",
    "from sklearn import datasets, linear_model\n",
    "from sklearn.model_selection import train_test_split\n",
    "\n",
    "# Data import\n",
    "path = os.getcwd() + '/ex1data2.txt'\n",
    "data2 = pd.read_csv(path, header=None, names=['Size', 'Bedrooms', 'Price'])\n",
    " \n",
    "# Normalization\n",
    "data2_copy=data2.copy()\n",
    "for col in data2.columns:\n",
    "    data2_copy[col]=(data2_copy[col]-data2_copy[col].mean())/data2_copy[col].std()\n",
    " \n",
    "# Split into train and test sets (70-30%)\n",
    "X_cols=['Size','Bedrooms']\n",
    "Y_col='Price'\n",
    "X_train, X_test, Y_train, Y_test = train_test_split(data2_copy[X_cols], data2_copy[Y_col],test_size=0.3, random_state=14)\n",
    " \n",
    "# Creating an object \n",
    "regr = linear_model.Ridge()\n",
    " \n",
    "# Learning model on training data\n",
    "regr.fit(X_train, Y_train)\n",
    "# Predicting values using test data\n",
    "Y_predicted = regr.predict(X_test)\n",
    " \n",
    "# Regression coefficients (theta)\n",
    "print('Coefficients: \\n', regr.coef_)\n",
    " \n",
    "#  Residual sum of squares error\n",
    "error = np.mean((regr.predict(X_test) - Y_test) ** 2)\n",
    "print(\"Residual sum of squares: {}\".format(error))"
   ]
  },
  {
   "attachments": {},
   "cell_type": "markdown",
   "metadata": {},
   "source": [
    "Lasso"
   ]
  },
  {
   "cell_type": "code",
   "execution_count": null,
   "metadata": {},
   "outputs": [],
   "source": [
    "import numpy as np\n",
    "from sklearn import datasets, linear_model\n",
    "from sklearn.model_selection import train_test_split\n",
    "\n",
    "# Data import\n",
    "path = os.getcwd() + '/ex1data2.txt'\n",
    "data2 = pd.read_csv(path, header=None, names=['Size', 'Bedrooms', 'Price'])\n",
    " \n",
    "# Normalization\n",
    "data2_copy=data2.copy()\n",
    "for col in data2.columns:\n",
    "    data2_copy[col]=(data2_copy[col]-data2_copy[col].mean())/data2_copy[col].std()\n",
    " \n",
    "# Split into train and test sets (70-30%)\n",
    "X_cols=['Size','Bedrooms']\n",
    "Y_col='Price'\n",
    "X_train, X_test, Y_train, Y_test = train_test_split(data2_copy[X_cols], data2_copy[Y_col],test_size=0.3, random_state=14)\n",
    " \n",
    "# Creating an object \n",
    "regr = linear_model.Lasso(0.3)\n",
    " \n",
    "# Learning model on training data\n",
    "regr.fit(X_train, Y_train)\n",
    "# Predicting values using test data\n",
    "Y_predicted = regr.predict(X_test)\n",
    " \n",
    "# Regression coefficients (theta)\n",
    "print('Coefficients: \\n', regr.coef_)\n",
    " \n",
    "#  Residual sum of squares error\n",
    "error = np.mean((regr.predict(X_test) - Y_test) ** 2)\n",
    "print(\"Residual sum of squares: {}\".format(error))"
   ]
  },
  {
   "attachments": {},
   "cell_type": "markdown",
   "metadata": {},
   "source": [
    "ElasticNet"
   ]
  },
  {
   "cell_type": "code",
   "execution_count": null,
   "metadata": {},
   "outputs": [],
   "source": [
    "import numpy as np\n",
    "from sklearn import datasets, linear_model\n",
    "from sklearn.model_selection import train_test_split\n",
    "\n",
    "# Data import\n",
    "path = os.getcwd() + '/ex1data2.txt'\n",
    "data2 = pd.read_csv(path, header=None, names=['Size', 'Bedrooms', 'Price'])\n",
    " \n",
    "# Normalization\n",
    "data2_copy=data2.copy()\n",
    "for col in data2.columns:\n",
    "    data2_copy[col]=(data2_copy[col]-data2_copy[col].mean())/data2_copy[col].std()\n",
    " \n",
    "# Split into train and test sets (70-30%)\n",
    "X_cols=['Size','Bedrooms']\n",
    "Y_col='Price'\n",
    "X_train, X_test, Y_train, Y_test = train_test_split(data2_copy[X_cols], data2_copy[Y_col],test_size=0.3, random_state=14)\n",
    " \n",
    "# Creating an object \n",
    "regr = linear_model.ElasticNet(0.1)\n",
    " \n",
    "# Learning model on training data\n",
    "regr.fit(X_train, Y_train)\n",
    "# Predicting values using test data\n",
    "Y_predicted = regr.predict(X_test)\n",
    " \n",
    "# Regression coefficients (theta)\n",
    "print('Coefficients: \\n', regr.coef_)\n",
    " \n",
    "#  Residual sum of squares error\n",
    "error = np.mean((regr.predict(X_test) - Y_test) ** 2)\n",
    "print(\"Residual sum of squares: {}\".format(error))"
   ]
  }
 ],
 "metadata": {
  "kernelspec": {
   "display_name": "Python 3",
   "language": "python",
   "name": "python3"
  },
  "language_info": {
   "codemirror_mode": {
    "name": "ipython",
    "version": 3
   },
   "file_extension": ".py",
   "mimetype": "text/x-python",
   "name": "python",
   "nbconvert_exporter": "python",
   "pygments_lexer": "ipython3",
   "version": "3.10.8"
  },
  "orig_nbformat": 4,
  "vscode": {
   "interpreter": {
    "hash": "b239acf2821489c398a9848859e84ce39b99d30cc4031fb37cc7461da3883639"
   }
  }
 },
 "nbformat": 4,
 "nbformat_minor": 2
}
