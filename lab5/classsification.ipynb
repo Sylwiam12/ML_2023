{
 "cells": [
  {
   "attachments": {},
   "cell_type": "markdown",
   "metadata": {},
   "source": [
    "Ex.1. kNN own implementation"
   ]
  },
  {
   "cell_type": "code",
   "execution_count": null,
   "metadata": {},
   "outputs": [],
   "source": [
    "from sklearn import datasets\n",
    "from sklearn.model_selection import train_test_split\n",
    "from scipy.spatial import distance\n",
    "from sklearn.metrics import accuracy_score\n",
    "from sklearn.model_selection import train_test_split\n",
    "from sklearn.neighbors import KNeighborsClassifier\n",
    "from collections import Counter\n",
    "import numpy as np\n",
    "import pandas as pd\n",
    "import matplotlib.pyplot as plt\n",
    "import sklearn.metrics\n",
    "from six import StringIO  \n",
    "import pydot "
   ]
  },
  {
   "cell_type": "code",
   "execution_count": null,
   "metadata": {},
   "outputs": [],
   "source": [
    "db_iris = datasets.load_iris()\n",
    "X,y=db_iris.data,db_iris.target\n",
    "X_train,X_test,y_train,y_test=train_test_split(X,y,test_size=0.3,shuffle=True,random_state=14)\n",
    "\n",
    "X_train=np.array(X_train)\n",
    "X_test=np.array(X_test)\n",
    "y_train=np.array(y_train)\n",
    "y_test=np.array(y_test)\n",
    "#computing the Euklides distance\n",
    "\n",
    "def distance(X_train,X_test_point):\n",
    "    euclides_distances=[]\n",
    "    for row in range(X_train.shape[0]):\n",
    "        curr_distance=0 #current distance\n",
    "        for column in range(X_train.shape[1]):\n",
    "            current_point=X_train[row][column]\n",
    "            curr_distance=np.sqrt(np.sum((current_point-X_test_point[column])**2)) \n",
    "        euclides_distances.append(curr_distance)\n",
    "\n",
    "    distances= pd.DataFrame(data=euclides_distances,columns=['distance'])\n",
    "    return distances\n",
    "# nearest neighbours\n",
    "def NN(distance_pt,k):  \n",
    "    nearest=distance_pt.sort_values(by=['distance'],axis=0)\n",
    "    return nearest[:k] #take the only first k neighbours\n",
    "\n",
    "def pred(nearest,y_train):\n",
    "    counter = Counter(y_train[nearest.index])\n",
    "    return counter.most_common()[0][0]\n",
    "\n",
    "def kNN(X_train,y_train,X_test,k):\n",
    "    y_pred=[]\n",
    "\n",
    "    for point in X_test:\n",
    "        distance_pt=distance(X_train,point)\n",
    "        nearest=NN(distance_pt,k)\n",
    "        y_pred_p=pred(nearest,y_train)\n",
    "        y_pred.append(y_pred_p)\n",
    "\n",
    "    return y_pred\n",
    "\n"
   ]
  },
  {
   "cell_type": "code",
   "execution_count": null,
   "metadata": {},
   "outputs": [],
   "source": [
    "from sklearn.preprocessing import Normalizer,StandardScaler\n",
    "\n",
    "k=3\n",
    "norm= Normalizer().fit(X_train)\n",
    "norm_X_train=norm.transform(X_train)\n",
    "norm_X_test=norm.transform(X_test)\n",
    "y_pred=kNN(norm_X_train,y_train,norm_X_test,k)\n",
    "print(accuracy_score(y_test,y_pred))"
   ]
  },
  {
   "cell_type": "code",
   "execution_count": null,
   "metadata": {},
   "outputs": [],
   "source": [
    "k_lst=[]\n",
    "score_lst=[]\n",
    "for k in range(1,X_test.shape[0]):\n",
    "    k_lst.append(k)\n",
    "    y_pred=kNN(norm_X_train,y_train,norm_X_test,k)\n",
    "    score_lst.append(accuracy_score(y_test,y_pred))\n",
    "\n",
    "plt.scatter(k_lst,score_lst,c='r')"
   ]
  },
  {
   "attachments": {},
   "cell_type": "markdown",
   "metadata": {},
   "source": [
    "Ex.2. kNN from sklearn"
   ]
  },
  {
   "cell_type": "code",
   "execution_count": null,
   "metadata": {},
   "outputs": [],
   "source": [
    "from sklearn import datasets\n",
    "from sklearn.metrics import accuracy_score\n",
    "from sklearn.model_selection import train_test_split\n",
    "from sklearn.neighbors import KNeighborsClassifier\n",
    "\n",
    "# Scale the features using StandardScaler\n",
    "scaler = StandardScaler()\n",
    "X_train = scaler.fit_transform(X_train)\n",
    "X_test = scaler.transform(X_test)\n",
    "k_lst=[]\n",
    "score_lst=[]\n",
    "for k in range(1,X_test.shape[0]):\n",
    "    k_lst.append(k)\n",
    "    knn = KNeighborsClassifier(n_neighbors=k)\n",
    "    knn.fit(X_train, y_train)\n",
    "    y_pred=knn.predict(X_test)\n",
    "    score_lst.append(accuracy_score(y_test,y_pred))\n",
    "\n",
    "plt.scatter(k_lst,score_lst,c='r')\n"
   ]
  },
  {
   "cell_type": "markdown",
   "metadata": {},
   "source": [
    "Ex.3 Decision trees"
   ]
  },
  {
   "cell_type": "code",
   "execution_count": null,
   "metadata": {},
   "outputs": [],
   "source": [
    "from sklearn.metrics import classification_report, confusion_matrix, f1_score\n",
    "from sklearn import tree\n",
    "from scipy.io import loadmat\n",
    "from tensorflow import keras\n",
    "\n",
    "(x_train, y_train), (x_test, y_test)=keras.datasets.mnist.load_data()\n",
    "\n",
    "#Ex.1.Divide the data into parameters X and answer y:\n",
    " \n",
    "X = np.concatenate((x_train,x_test),axis=0)\n",
    "y = np.concatenate((y_train,y_test),axis=0)\n",
    "# Standardization\n",
    "for i in range(X.shape[0]):\n",
    "    X[i,:] = X[i,:]/np.std(X[i,:])\n",
    " \n",
    "# Convert digit 10 -> 0 (error in the dataset)    \n",
    "y[np.where(y==10)]=0\n",
    " \n",
    "# the height and width of the picture with the number\n",
    "h = 28\n",
    "w = 28\n",
    " \n",
    "# Ex 2. Please display the number of digits and the number of pixels per image\n",
    "X.shape\n"
   ]
  },
  {
   "attachments": {},
   "cell_type": "markdown",
   "metadata": {},
   "source": [
    "Ex. 3. Please display sample digits from the dataset (functionplot_mnist).\n"
   ]
  },
  {
   "cell_type": "code",
   "execution_count": null,
   "metadata": {},
   "outputs": [],
   "source": [
    "def plot_mnist(images, titles, h, w, n_row=3, n_col=4):\n",
    "    plt.figure(figsize=(1.8 * n_col, 2.4 * n_row))\n",
    "    plt.subplots_adjust(bottom=0, left=.01, right=.99, top=.90, hspace=.05)\n",
    "    for i in range(n_row * n_col):\n",
    "        plt.subplot(n_row, n_col, i + 1)\n",
    "        plt.imshow(images[i].reshape((h, w)).T, cmap=plt.cm.gray)\n",
    "        plt.title(titles[i], size=12)\n",
    "        plt.xticks(())\n",
    "        plt.yticks(())\n",
    "\n",
    "plot_mnist(X,str(y),X.shape[1],X.shape[2])"
   ]
  },
  {
   "attachments": {},
   "cell_type": "markdown",
   "metadata": {},
   "source": [
    "Ex. 4. Please divide the dataset into learner (70%) and training."
   ]
  },
  {
   "cell_type": "code",
   "execution_count": null,
   "metadata": {},
   "outputs": [],
   "source": [
    "X=X.reshape(X.shape[0],784)\n",
    "X_train,X_test,y_train,y_test = train_test_split(X,y,test_size=0.3,random_state=77)"
   ]
  },
  {
   "attachments": {},
   "cell_type": "markdown",
   "metadata": {},
   "source": [
    "Ex. 5. Create an instance of the classifier, then train and predict for test data.\n",
    "Tree parameters:\n",
    "DEPTH = 10"
   ]
  },
  {
   "cell_type": "code",
   "execution_count": null,
   "metadata": {},
   "outputs": [],
   "source": [
    "DEPTH=10\n",
    "clf = tree.DecisionTreeClassifier(max_depth=DEPTH)\n",
    "clf.fit(X_train, y_train)\n",
    "y_pred = clf.predict(X_test)"
   ]
  },
  {
   "attachments": {},
   "cell_type": "markdown",
   "metadata": {},
   "source": [
    "Ex 6. Please provide F1 result, confusion matrix and classification report."
   ]
  },
  {
   "cell_type": "code",
   "execution_count": null,
   "metadata": {},
   "outputs": [],
   "source": [
    "print(f\"f1: {sklearn.metrics.f1_score(y_test,y_pred,average='micro')}\")\n",
    "\n",
    "conf_matrix = sklearn.metrics.confusion_matrix(y_test, y_pred)\n",
    "cm_display = sklearn.metrics.ConfusionMatrixDisplay(confusion_matrix = conf_matrix)\n",
    "cm_display.plot()\n",
    "plt.show()"
   ]
  },
  {
   "cell_type": "code",
   "execution_count": null,
   "metadata": {},
   "outputs": [],
   "source": [
    "dot_data = StringIO() \n",
    "tree.export_graphviz(clf, out_file=dot_data) \n",
    "graph = pydot.graph_from_dot_data(dot_data.getvalue()) \n",
    "graph[0].write(\"data.pdf\")"
   ]
  }
 ],
 "metadata": {
  "kernelspec": {
   "display_name": "Python 3",
   "language": "python",
   "name": "python3"
  },
  "language_info": {
   "codemirror_mode": {
    "name": "ipython",
    "version": 3
   },
   "file_extension": ".py",
   "mimetype": "text/x-python",
   "name": "python",
   "nbconvert_exporter": "python",
   "pygments_lexer": "ipython3",
   "version": "3.10.8"
  },
  "orig_nbformat": 4
 },
 "nbformat": 4,
 "nbformat_minor": 2
}
